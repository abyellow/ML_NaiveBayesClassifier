{
 "cells": [
  {
   "cell_type": "code",
   "execution_count": 1,
   "metadata": {
    "collapsed": false,
    "scrolled": true
   },
   "outputs": [
    {
     "ename": "NameError",
     "evalue": "name 'data' is not defined",
     "output_type": "error",
     "traceback": [
      "\u001b[1;31m---------------------------------------------------------------------------\u001b[0m",
      "\u001b[1;31mNameError\u001b[0m                                 Traceback (most recent call last)",
      "\u001b[1;32m<ipython-input-1-b92e13f0a67e>\u001b[0m in \u001b[0;36m<module>\u001b[1;34m()\u001b[0m\n\u001b[0;32m      1\u001b[0m \u001b[1;32mimport\u001b[0m \u001b[0mnumpy\u001b[0m \u001b[1;32mas\u001b[0m \u001b[0mnp\u001b[0m\u001b[1;33m\u001b[0m\u001b[0m\n\u001b[1;32m----> 2\u001b[1;33m \u001b[0mtrain_data\u001b[0m \u001b[1;33m=\u001b[0m \u001b[0mnp\u001b[0m\u001b[1;33m.\u001b[0m\u001b[0mloadtxt\u001b[0m\u001b[1;33m(\u001b[0m\u001b[0mdata\u001b[0m\u001b[1;33m/\u001b[0m\u001b[0mtrain\u001b[0m\u001b[1;33m.\u001b[0m\u001b[0mdata\u001b[0m\u001b[1;33m)\u001b[0m\u001b[1;33m\u001b[0m\u001b[0m\n\u001b[0m",
      "\u001b[1;31mNameError\u001b[0m: name 'data' is not defined"
     ]
    }
   ],
   "source": [
    "import numpy as np\n",
    "train_data = np.loadtxt(data/train.data)"
   ]
  },
  {
   "cell_type": "code",
   "execution_count": null,
   "metadata": {
    "collapsed": false
   },
   "outputs": [
    {
     "name": "stdout",
     "output_type": "stream",
     "text": [
      "load data and label\n",
      "a.calculate document number in the same class\n",
      "b.accumulate the number \n",
      "c.calculate the starting index in test.data list for each class\n",
      "d.run through the list to sum up word-occurrence in different word-id for each class\n",
      "e.calculate probability p(w|C) base on ocur_time and the equation"
     ]
    },
    {
     "name": "stderr",
     "output_type": "stream",
     "text": [
      "NB_clr.py:52: DeprecationWarning: using a non-integer number instead of an integer will result in an error in the future\n",
      "  ocur_sum = zeros((cls_num, mean))\n",
      "NB_clr.py:57: DeprecationWarning: using a non-integer number instead of an integer will result in an error in the future\n",
      "  ocur_sum[b-1,data[a,1]-1] += data[a,2]\n",
      "NB_clr.py:61: DeprecationWarning: using a non-integer number instead of an integer will result in an error in the future\n",
      "  prob = zeros((cls_num, mean))\n"
     ]
    },
    {
     "name": "stdout",
     "output_type": "stream",
     "text": [
      "\n",
      "f.save probability\n",
      "g.done!!\n",
      "start to predict your data set!\n",
      "0\n",
      "100\n",
      "200\n",
      "300"
     ]
    },
    {
     "name": "stderr",
     "output_type": "stream",
     "text": [
      "NB_clr.py:93: DeprecationWarning: using a non-integer number instead of an integer will result in an error in the future\n",
      "  ocur_sum[j-1,testdata[i,1]-1] += testdata[i,2]\n",
      "NB_clr.py:99: RuntimeWarning: overflow encountered in power\n",
      "  doc_prob[m,k] = prod(prob[k,:]**ocur_sum[m,0:mean])\n"
     ]
    },
    {
     "name": "stdout",
     "output_type": "stream",
     "text": [
      "\n",
      "400\n",
      "500\n",
      "600\n",
      "700\n",
      "800\n",
      "900\n",
      "1000\n",
      "1100\n",
      "1200\n",
      "1300"
     ]
    }
   ],
   "source": [
    "%run NB_clr.py"
   ]
  },
  {
   "cell_type": "code",
   "execution_count": null,
   "metadata": {
    "collapsed": true
   },
   "outputs": [],
   "source": []
  }
 ],
 "metadata": {
  "kernelspec": {
   "display_name": "Python 2",
   "language": "python",
   "name": "python2"
  },
  "language_info": {
   "codemirror_mode": {
    "name": "ipython",
    "version": 2
   },
   "file_extension": ".py",
   "mimetype": "text/x-python",
   "name": "python",
   "nbconvert_exporter": "python",
   "pygments_lexer": "ipython2",
   "version": "2.7.10"
  }
 },
 "nbformat": 4,
 "nbformat_minor": 0
}
